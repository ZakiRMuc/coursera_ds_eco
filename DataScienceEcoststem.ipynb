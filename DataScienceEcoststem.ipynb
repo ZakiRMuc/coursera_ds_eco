{
 "cells": [
  {
   "cell_type": "markdown",
   "id": "8e12b68f-f5ad-4fcb-9731-ae12d355c225",
   "metadata": {},
   "source": [
    "# Data Science Tools and Ecosystem"
   ]
  },
  {
   "cell_type": "markdown",
   "id": "c783ab10-0ef6-4045-99bf-bb1a58b09f60",
   "metadata": {},
   "source": [
    "In this notebook, Data Science Tools and Ecosystem are summarized."
   ]
  },
  {
   "cell_type": "markdown",
   "id": "5afea48e-f281-4f89-b1ea-cd884430062d",
   "metadata": {},
   "source": [
    "**Objectives**\n",
    "* List Popular languages for Data Science\n",
    "* Convert minutes to hours\n",
    "* List commonly used libraries in Data Science"
   ]
  },
  {
   "cell_type": "markdown",
   "id": "0371a99b-27b3-4dd8-af65-9dc4926bc9ce",
   "metadata": {},
   "source": [
    "Some of the popular languages that Data Scientists use are:\n",
    "1. Python\n",
    "2. SQL\n",
    "3. R\n",
    "4. Julia\n",
    "5. SPSS"
   ]
  },
  {
   "cell_type": "markdown",
   "id": "09afa577-c482-4196-ba24-f013c724b35a",
   "metadata": {},
   "source": [
    "Some of the commonly used libraries used by Data Scientists include:\n",
    "1. Pandas\n",
    "2. Matplotlib\n",
    "3. NumPy\n",
    "4. Scikit-learn\n",
    "5. TensorFlow"
   ]
  },
  {
   "cell_type": "markdown",
   "id": "70cd5b3b-3050-4ecd-a57a-6d4419e6373b",
   "metadata": {},
   "source": [
    "|Data Science Tools|\n",
    "|--|\n",
    "|Jupyter Notebook|\n",
    "|Rstudio|\n",
    "|Apache Spark|"
   ]
  },
  {
   "cell_type": "markdown",
   "id": "c3ba9ff5-08be-42ce-a5d0-e34894750ebf",
   "metadata": {},
   "source": [
    "### Below are a few examples of evaluating arithmetic expressions in Python"
   ]
  },
  {
   "cell_type": "code",
   "execution_count": 8,
   "id": "a4deadfc-e1db-4b64-a754-d56ae47a0248",
   "metadata": {
    "tags": []
   },
   "outputs": [
    {
     "data": {
      "text/plain": [
       "17"
      ]
     },
     "execution_count": 8,
     "metadata": {},
     "output_type": "execute_result"
    }
   ],
   "source": [
    "#This a simple arithmetic expression to mutiply then add integers\n",
    "(3*4)+5"
   ]
  },
  {
   "cell_type": "code",
   "execution_count": 9,
   "id": "5ea37bc5-66da-4bd6-b9ca-9499332be9df",
   "metadata": {
    "tags": []
   },
   "outputs": [
    {
     "name": "stdout",
     "output_type": "stream",
     "text": [
      "200 minutes is equal to 3.3333333333333335 hours\n"
     ]
    }
   ],
   "source": [
    "#This will convert 200 minutes to hours by dividing by 60\n",
    "def hourtominutes(mins):\n",
    "    hours = mins/60\n",
    "    return hours\n",
    "minute = 200\n",
    "hour = hourtominutes(minute)\n",
    "print(minute, \"minutes is equal to\", hour, \"hours\")"
   ]
  },
  {
   "cell_type": "markdown",
   "id": "cbddaf67-d12f-4f2b-b03f-c21a39ebf172",
   "metadata": {},
   "source": [
    "## Author\n",
    "Zaki Ramadhan Muchlish"
   ]
  },
  {
   "cell_type": "code",
   "execution_count": null,
   "id": "4edbf1f9-605c-4f62-a18b-1948e8b1b2a7",
   "metadata": {},
   "outputs": [],
   "source": []
  }
 ],
 "metadata": {
  "kernelspec": {
   "display_name": "Python",
   "language": "python",
   "name": "conda-env-python-py"
  },
  "language_info": {
   "codemirror_mode": {
    "name": "ipython",
    "version": 3
   },
   "file_extension": ".py",
   "mimetype": "text/x-python",
   "name": "python",
   "nbconvert_exporter": "python",
   "pygments_lexer": "ipython3",
   "version": "3.7.12"
  }
 },
 "nbformat": 4,
 "nbformat_minor": 5
}
